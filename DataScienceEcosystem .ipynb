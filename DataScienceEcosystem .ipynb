{
 "cells": [
  {
   "cell_type": "markdown",
   "id": "d2fe1a55-5182-4e62-b2c4-00b6324bf1d9",
   "metadata": {},
   "source": [
    "# Data Science Tools and Ecosystem"
   ]
  },
  {
   "cell_type": "markdown",
   "id": "c73541e6-f868-4e14-90df-30adec78dacc",
   "metadata": {},
   "source": [
    "In this notebook, Data Science Tools and Ecosystem are summarized."
   ]
  },
  {
   "cell_type": "markdown",
   "id": "5f79d0c8-adde-45f4-99eb-3f447d6e7f43",
   "metadata": {},
   "source": [
    "**Objectives**\n",
    "+ List popular languages for Data Science\n",
    "+ List commonly used libraries for Data Science\n",
    "+ Create a Data Science Tools table"
   ]
  },
  {
   "cell_type": "markdown",
   "id": "10d436bd-2d44-4555-bb4d-bbc8ae1a3e10",
   "metadata": {},
   "source": [
    "Some of the popular languages the Data Scientists use are:\n",
    "1. Python\n",
    "2. Scala\n",
    "3. R"
   ]
  },
  {
   "cell_type": "markdown",
   "id": "418bd714-f692-42b5-821a-3b55a2fbac84",
   "metadata": {},
   "source": [
    "Some of the most common libraries used by Data Scientists include:\n",
    "1. Panda\n",
    "2. Vegas\n",
    "3. TensorFlow\n"
   ]
  },
  {
   "cell_type": "markdown",
   "id": "c17c9891-c060-4853-b720-1b69d5fa9f8a",
   "metadata": {},
   "source": [
    "| Data Science Tools |\n",
    "| ------------------ |\n",
    "| Jupyter lab |\n",
    "| R Studio |\n",
    "| Apache Spark |"
   ]
  },
  {
   "cell_type": "markdown",
   "id": "303de053-e22a-474c-8b3c-163e048749c1",
   "metadata": {},
   "source": [
    "### Below are a few examples of evaluating arithmetic expressions in Python."
   ]
  },
  {
   "cell_type": "code",
   "execution_count": 3,
   "id": "8741a3d4-8cce-42c8-a123-fa2e5d838a1d",
   "metadata": {
    "tags": []
   },
   "outputs": [
    {
     "data": {
      "text/plain": [
       "17"
      ]
     },
     "execution_count": 3,
     "metadata": {},
     "output_type": "execute_result"
    }
   ],
   "source": [
    "# This is a simple arithmetic expression to multiply then add integers\n",
    "(3*4)+5"
   ]
  },
  {
   "cell_type": "code",
   "execution_count": 4,
   "id": "88007246-514a-4b88-8f7f-48138884424f",
   "metadata": {
    "tags": []
   },
   "outputs": [
    {
     "data": {
      "text/plain": [
       "3.3333333333333335"
      ]
     },
     "execution_count": 4,
     "metadata": {},
     "output_type": "execute_result"
    }
   ],
   "source": [
    "# This will convert 200 minutes to hours by dividing 60\n",
    "(200/60)"
   ]
  },
  {
   "cell_type": "markdown",
   "id": "83c63821-c2a2-486c-9b78-befe1a18b1cf",
   "metadata": {},
   "source": [
    "## Author\n",
    "Clifton Wiggins"
   ]
  },
  {
   "cell_type": "code",
   "execution_count": null,
   "id": "f5bad367-19af-4d8b-9dbf-3fed0e82cce7",
   "metadata": {},
   "outputs": [],
   "source": []
  }
 ],
 "metadata": {
  "kernelspec": {
   "display_name": "Python",
   "language": "python",
   "name": "conda-env-python-py"
  },
  "language_info": {
   "codemirror_mode": {
    "name": "ipython",
    "version": 3
   },
   "file_extension": ".py",
   "mimetype": "text/x-python",
   "name": "python",
   "nbconvert_exporter": "python",
   "pygments_lexer": "ipython3",
   "version": "3.7.12"
  }
 },
 "nbformat": 4,
 "nbformat_minor": 5
}
